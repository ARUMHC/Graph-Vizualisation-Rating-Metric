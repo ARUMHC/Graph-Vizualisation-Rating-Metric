{
 "cells": [
  {
   "cell_type": "code",
   "execution_count": null,
   "metadata": {},
   "outputs": [],
   "source": []
  },
  {
   "cell_type": "markdown",
   "metadata": {},
   "source": [
    "# PLAN NA TESTING METRYKI\n",
    "\n",
    "- z macierzy korelacji wybrać lambdy ktore wyszly\n",
    "- zrobić narzedzie które liczy score\n",
    "- wygenerować graf - recznie(?) wygenerowac jakąś wizulizacje jego, jedna lepsza, jedna wyraźnie gorsza i popatrzeć czy metryka zwraca wynik który ma sens \n",
    "- w komponentach dac tez wersje komponentow bez zmian z artykulu\n",
    "- porównać wyniki na 3 kategoriach grafu (BA ER SBM) i pomysleć czy przy wybieraniu lambd brać pod uwagę rodzaj tego grafu"
   ]
  },
  {
   "cell_type": "code",
   "execution_count": 1,
   "metadata": {},
   "outputs": [],
   "source": [
    "import sys\n",
    "from pathlib import Path\n",
    "\n",
    "# sys.path.insert(0,str(Path(r'C:\\Users\\ku51015\\CHMURA\\mystuff\\Graph-Vizualisation-Rating-Metric').resolve()))\n",
    "sys.path.insert(0,str(Path(r'C:\\Users\\Kinga\\Desktop\\MAGISTERKA\\Graph-Vizualisation-Rating-Metric-3').resolve()))\n",
    "\n",
    "from graph_generating_script import *\n",
    "from graph_metric_script import *\n",
    "import matplotlib.pyplot as plt\n",
    "import igraph as ig\n",
    "import numpy as np\n",
    "import pickle"
   ]
  },
  {
   "cell_type": "markdown",
   "metadata": {},
   "source": [
    "### connect all dataframes and generate coorelation for all"
   ]
  },
  {
   "cell_type": "code",
   "execution_count": null,
   "metadata": {},
   "outputs": [],
   "source": [
    "annotations = pd.read_excel('BA_annotations_scores.xlsx')"
   ]
  },
  {
   "cell_type": "code",
   "execution_count": null,
   "metadata": {},
   "outputs": [],
   "source": [
    "import os \n",
    "posdf_dir = 'pos_dfs'\n",
    "graph_dir = 'graph_objects'\n",
    "\n",
    "\n",
    "calculated_components_df = pd.DataFrame(columns=['posdf_id', 'score', 'node_distribution', 'distance_to_borderlines', 'edge_length_sum', 'edge_node_distance_contribution', 'count_edge_crossings','communities_closeness', 'sum_of_angles', 'symmetry'])\n",
    "\n",
    "# Iterate through files in the posdf_dir\n",
    "for posdf_file in os.listdir(posdf_dir):\n",
    "    # reading data\n",
    "    if posdf_file.endswith('.csv'):\n",
    "        posdf = pd.read_csv(os.path.join(posdf_dir, posdf_file))\n",
    "        print(f'Loaded {posdf_file}')\n",
    "\n",
    "    graph_id = posdf_file.split('_')[0]\n",
    "    layout = posdf_file.split('.')[0]\n",
    "    layout = layout[2:]\n",
    "    score = annotations[annotations['graph_id'] == int(graph_id)][layout].values[0]\n",
    "\n",
    "\n",
    "    graph_file = 'graph_'+graph_id+'.pkl' \n",
    "    with open(os.path.join(graph_dir, graph_file), 'rb') as f:\n",
    "        G = pickle.load(f)\n",
    "    components_dict = {\n",
    "        'posdf_id': posdf_file,\n",
    "        'score': score,\n",
    "        'node_distribution': node_distribution(posdf),\n",
    "        'distance_to_borderlines': distance_to_borderlines(posdf),\n",
    "        'edge_length_sum': edge_length_sum(G, posdf),\n",
    "        'edge_node_distance_contribution': edge_node_distance_contribution(G, posdf)[0],\n",
    "        'count_edge_crossings': count_edge_crossings(G, posdf),\n",
    "        'communities_closeness' : intra_cluster_distance(G, posdf)['overall_sum'],\n",
    "        'sum_of_angles' : sum_of_angles(G, posdf),\n",
    "        'symmetry' : measure_graph_symmetry(G, posdf)\n",
    "    }\n",
    "    new_row_df = pd.DataFrame([components_dict])\n",
    "    calculated_components_df = pd.concat([calculated_components_df, new_row_df], ignore_index=True)"
   ]
  },
  {
   "cell_type": "code",
   "execution_count": null,
   "metadata": {},
   "outputs": [],
   "source": []
  },
  {
   "cell_type": "code",
   "execution_count": null,
   "metadata": {},
   "outputs": [],
   "source": []
  }
 ],
 "metadata": {
  "kernelspec": {
   "display_name": "Python 3",
   "language": "python",
   "name": "python3"
  },
  "language_info": {
   "codemirror_mode": {
    "name": "ipython",
    "version": 3
   },
   "file_extension": ".py",
   "mimetype": "text/x-python",
   "name": "python",
   "nbconvert_exporter": "python",
   "pygments_lexer": "ipython3",
   "version": "3.9.1"
  }
 },
 "nbformat": 4,
 "nbformat_minor": 2
}
